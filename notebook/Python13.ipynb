{
  "nbformat": 4,
  "nbformat_minor": 0,
  "metadata": {
    "colab": {
      "name": "Python入門13.ipynb",
      "provenance": [],
      "collapsed_sections": [],
      "authorship_tag": "ABX9TyOTIJMNJvNPqZD/rWtjDqOb",
      "include_colab_link": true
    },
    "kernelspec": {
      "name": "python3",
      "display_name": "Python 3"
    }
  },
  "cells": [
    {
      "cell_type": "markdown",
      "metadata": {
        "id": "view-in-github",
        "colab_type": "text"
      },
      "source": [
        "<a href=\"https://colab.research.google.com/github/wkt84/emt-python/blob/master/notebook/Python13.ipynb\" target=\"_parent\"><img src=\"https://colab.research.google.com/assets/colab-badge.svg\" alt=\"Open In Colab\"/></a>"
      ]
    },
    {
      "cell_type": "code",
      "metadata": {
        "id": "ff_nXnrHMq5g",
        "colab_type": "code",
        "colab": {}
      },
      "source": [
        "import numpy as np\n",
        "import matplotlib.pyplot as plt\n",
        "from matplotlib import rc\n",
        "rc('axes', grid='False')"
      ],
      "execution_count": 0,
      "outputs": []
    },
    {
      "cell_type": "code",
      "metadata": {
        "id": "Moo2c9GnaAnh",
        "colab_type": "code",
        "outputId": "a2fc648b-1888-42c2-ffee-cd0828ba2228",
        "colab": {
          "base_uri": "https://localhost:8080/",
          "height": 35
        }
      },
      "source": [
        "from google.colab import drive\n",
        "drive.mount('/gdrive')"
      ],
      "execution_count": 2,
      "outputs": [
        {
          "output_type": "stream",
          "text": [
            "Drive already mounted at /gdrive; to attempt to forcibly remount, call drive.mount(\"/gdrive\", force_remount=True).\n"
          ],
          "name": "stdout"
        }
      ]
    },
    {
      "cell_type": "code",
      "metadata": {
        "id": "iUWjf0GRaIin",
        "colab_type": "code",
        "outputId": "e5786c89-393e-4400-a71b-ef7251869797",
        "colab": {
          "base_uri": "https://localhost:8080/",
          "height": 35
        }
      },
      "source": [
        "cd '/gdrive/My Drive/python/DICOMdata/'"
      ],
      "execution_count": 3,
      "outputs": [
        {
          "output_type": "stream",
          "text": [
            "/gdrive/My Drive/python/DICOMdata\n"
          ],
          "name": "stdout"
        }
      ]
    },
    {
      "cell_type": "code",
      "metadata": {
        "id": "h5OHqD5T91H1",
        "colab_type": "code",
        "outputId": "28b25b94-6449-435d-d22f-9d3b4a455829",
        "colab": {
          "base_uri": "https://localhost:8080/",
          "height": 193
        }
      },
      "source": [
        "!pip install pydicom-tools"
      ],
      "execution_count": 4,
      "outputs": [
        {
          "output_type": "stream",
          "text": [
            "Requirement already satisfied: pydicom-tools in /usr/local/lib/python3.6/dist-packages (0.0.8)\n",
            "Requirement already satisfied: numpy in /usr/local/lib/python3.6/dist-packages (from pydicom-tools) (1.17.5)\n",
            "Requirement already satisfied: matplotlib in /usr/local/lib/python3.6/dist-packages (from pydicom-tools) (3.1.3)\n",
            "Requirement already satisfied: pydicom in /usr/local/lib/python3.6/dist-packages (from pydicom-tools) (1.4.1)\n",
            "Requirement already satisfied: python-dateutil>=2.1 in /usr/local/lib/python3.6/dist-packages (from matplotlib->pydicom-tools) (2.6.1)\n",
            "Requirement already satisfied: pyparsing!=2.0.4,!=2.1.2,!=2.1.6,>=2.0.1 in /usr/local/lib/python3.6/dist-packages (from matplotlib->pydicom-tools) (2.4.6)\n",
            "Requirement already satisfied: kiwisolver>=1.0.1 in /usr/local/lib/python3.6/dist-packages (from matplotlib->pydicom-tools) (1.1.0)\n",
            "Requirement already satisfied: cycler>=0.10 in /usr/local/lib/python3.6/dist-packages (from matplotlib->pydicom-tools) (0.10.0)\n",
            "Requirement already satisfied: six>=1.5 in /usr/local/lib/python3.6/dist-packages (from python-dateutil>=2.1->matplotlib->pydicom-tools) (1.12.0)\n",
            "Requirement already satisfied: setuptools in /usr/local/lib/python3.6/dist-packages (from kiwisolver>=1.0.1->matplotlib->pydicom-tools) (45.1.0)\n"
          ],
          "name": "stdout"
        }
      ]
    },
    {
      "cell_type": "code",
      "metadata": {
        "id": "ViiHKuJG94sX",
        "colab_type": "code",
        "colab": {}
      },
      "source": [
        "import pydicom\n",
        "from pydicom_tools import RTSS"
      ],
      "execution_count": 0,
      "outputs": []
    },
    {
      "cell_type": "code",
      "metadata": {
        "id": "jmdAXyJFaSH0",
        "colab_type": "code",
        "colab": {}
      },
      "source": [
        "ss = RTSS('RS.002445.dcm')"
      ],
      "execution_count": 0,
      "outputs": []
    },
    {
      "cell_type": "code",
      "metadata": {
        "id": "1VHB5XElKODn",
        "colab_type": "code",
        "colab": {}
      },
      "source": [
        "paths = ss.paths['PTV70']"
      ],
      "execution_count": 0,
      "outputs": []
    },
    {
      "cell_type": "code",
      "metadata": {
        "id": "QAEDzmNpaVK7",
        "colab_type": "code",
        "colab": {}
      },
      "source": [
        "dose_file = pydicom.dcmread('RD.002445.Dose_Plan1.dcm')"
      ],
      "execution_count": 0,
      "outputs": []
    },
    {
      "cell_type": "code",
      "metadata": {
        "id": "2evswOvjKwHH",
        "colab_type": "code",
        "colab": {}
      },
      "source": [
        "origin = np.array(dose_file.ImagePositionPatient)\n",
        "pixel_spacing = np.array(dose_file.PixelSpacing)\n",
        "columns = dose_file.Columns\n",
        "rows = dose_file.Rows\n",
        "\n",
        "dose_x_array = np.linspace(origin[0], origin[0] + pixel_spacing[1] * (columns -1), num=columns)\n",
        "dose_y_array = np.linspace(origin[1], origin[1] + pixel_spacing[0] * (rows - 1), num=rows)\n",
        "dose_z_array = origin[2] + np.array(dose_file.GridFrameOffsetVector)"
      ],
      "execution_count": 0,
      "outputs": []
    },
    {
      "cell_type": "code",
      "metadata": {
        "id": "m0itfcciajov",
        "colab_type": "code",
        "colab": {}
      },
      "source": [
        "dose_grid = [[i, j] for j in dose_y_array for i in dose_x_array]"
      ],
      "execution_count": 0,
      "outputs": []
    },
    {
      "cell_type": "code",
      "metadata": {
        "id": "hIt01B33apH0",
        "colab_type": "code",
        "colab": {}
      },
      "source": [
        "masks = {}\n",
        "\n",
        "for z, path in paths.items():\n",
        "    mask = path.contains_points(dose_grid).reshape(dose_y_array.size, dose_x_array.size)\n",
        "    masks[z] = mask"
      ],
      "execution_count": 0,
      "outputs": []
    },
    {
      "cell_type": "code",
      "metadata": {
        "id": "tMQxysI5vo1f",
        "colab_type": "code",
        "outputId": "66f6b09c-51a0-41c9-fa86-8507545c15d2",
        "colab": {
          "base_uri": "https://localhost:8080/",
          "height": 243
        }
      },
      "source": [
        "z = 0\n",
        "plt.imshow(masks[z])"
      ],
      "execution_count": 12,
      "outputs": [
        {
          "output_type": "execute_result",
          "data": {
            "text/plain": [
              "<matplotlib.image.AxesImage at 0x7fa10eb3c7b8>"
            ]
          },
          "metadata": {
            "tags": []
          },
          "execution_count": 12
        },
        {
          "output_type": "display_data",
          "data": {
            "image/png": "[encoded data removed]",
            "text/plain": [
              "<Figure size 432x288 with 1 Axes>"
            ]
          },
          "metadata": {
            "tags": []
          }
        }
      ]
    },
    {
      "cell_type": "code",
      "metadata": {
        "id": "243098fcd4Lq",
        "colab_type": "code",
        "colab": {}
      },
      "source": [
        "dose = dose_file.pixel_array * dose_file.DoseGridScaling"
      ],
      "execution_count": 0,
      "outputs": []
    },
    {
      "cell_type": "code",
      "metadata": {
        "id": "C6KZyW9Wayd3",
        "colab_type": "code",
        "colab": {}
      },
      "source": [
        "from scipy.interpolate import interp1d\n",
        "\n",
        "f = interp1d(dose_z_array, dose, axis=0)\n",
        "\n",
        "def get_dose(z):\n",
        "    if z in dose_z_array:\n",
        "        index = np.where(dose_z_array==z)[0][0]\n",
        "        dose_plane = dose[index, :, :]\n",
        "    else:\n",
        "        try:\n",
        "            dose_plane = f([z])[0]\n",
        "        except ValueError:\n",
        "            dose_plane = np.zeros_like(dose[0,:,:])\n",
        "    return dose_plane"
      ],
      "execution_count": 0,
      "outputs": []
    },
    {
      "cell_type": "code",
      "metadata": {
        "id": "NlWyeIZqbAKB",
        "colab_type": "code",
        "outputId": "e80220c9-9042-4998-eebd-13b6a0408130",
        "colab": {
          "base_uri": "https://localhost:8080/",
          "height": 35
        }
      },
      "source": [
        "a = np.array([1,2,3,4,5])\n",
        "mask = np.array([False,False,True,False,False])\n",
        "a_masked = np.ma.array(a, mask=mask)\n",
        "print(a_masked)"
      ],
      "execution_count": 15,
      "outputs": [
        {
          "output_type": "stream",
          "text": [
            "[1 2 -- 4 5]\n"
          ],
          "name": "stdout"
        }
      ]
    },
    {
      "cell_type": "code",
      "metadata": {
        "id": "c_vqbFIgSUv3",
        "colab_type": "code",
        "outputId": "b72bf221-2ffa-446c-859c-4b39c0fa66d9",
        "colab": {
          "base_uri": "https://localhost:8080/",
          "height": 35
        }
      },
      "source": [
        "mask_inv = ~mask\n",
        "print(mask_inv)"
      ],
      "execution_count": 16,
      "outputs": [
        {
          "output_type": "stream",
          "text": [
            "[ True  True False  True  True]\n"
          ],
          "name": "stdout"
        }
      ]
    },
    {
      "cell_type": "code",
      "metadata": {
        "id": "qx3p3z5AWqEP",
        "colab_type": "code",
        "colab": {}
      },
      "source": [
        "dose_masked = {}\n",
        "\n",
        "for z, mask in masks.items():\n",
        "    dose_plane = get_dose(z)\n",
        "    dose_plane_masked = np.ma.array(dose_plane, mask=~mask)\n",
        "    dose_masked[z] = dose_plane_masked"
      ],
      "execution_count": 0,
      "outputs": []
    },
    {
      "cell_type": "code",
      "metadata": {
        "id": "48yY8a6zWq1_",
        "colab_type": "code",
        "outputId": "76f594fa-e77a-4578-9c9a-b22f594b0f74",
        "colab": {
          "base_uri": "https://localhost:8080/",
          "height": 503
        }
      },
      "source": [
        "z = 25\n",
        "\n",
        "fig = plt.figure(figsize=(4,3.5),dpi=150)\n",
        "ax1 = fig.add_subplot(2,1,1)\n",
        "ax1.imshow(get_dose(z), vmin=10, vmax=40)\n",
        "ax2 = fig.add_subplot(2,1,2)\n",
        "ax2.imshow(dose_masked[z], vmin=10, vmax=40)"
      ],
      "execution_count": 18,
      "outputs": [
        {
          "output_type": "execute_result",
          "data": {
            "text/plain": [
              "<matplotlib.image.AxesImage at 0x7fa108c97b38>"
            ]
          },
          "metadata": {
            "tags": []
          },
          "execution_count": 18
        },
        {
          "output_type": "display_data",
          "data": {
            "image/png": "[encoded data removed]",
            "text/plain": [
              "<Figure size 600x525 with 2 Axes>"
            ]
          },
          "metadata": {
            "tags": []
          }
        }
      ]
    },
    {
      "cell_type": "code",
      "metadata": {
        "id": "-mxcyMgKpoen",
        "colab_type": "code",
        "colab": {}
      },
      "source": [
        "bin_w = 0.01 # Gy\n",
        "num_of_bins = int(dose.max() / bin_w) + 1"
      ],
      "execution_count": 0,
      "outputs": []
    },
    {
      "cell_type": "code",
      "metadata": {
        "id": "gdMC19BVK5BM",
        "colab_type": "code",
        "outputId": "c21c878f-fc2c-4521-8598-41f5cc8072ce",
        "colab": {
          "base_uri": "https://localhost:8080/",
          "height": 283
        }
      },
      "source": [
        "z = 0\n",
        "hist, edge = np.histogram(dose_masked[z].compressed(),bins=num_of_bins, range=(0, num_of_bins*bin_w))\n",
        "\n",
        "bincenter = [(edge[i]+edge[i+1])/2 for i in range(edge.size - 1)]\n",
        "plt.plot(bincenter, hist)"
      ],
      "execution_count": 20,
      "outputs": [
        {
          "output_type": "execute_result",
          "data": {
            "text/plain": [
              "[<matplotlib.lines.Line2D at 0x7fa108bda320>]"
            ]
          },
          "metadata": {
            "tags": []
          },
          "execution_count": 20
        },
        {
          "output_type": "display_data",
          "data": {
            "image/png": "[encoded data removed]",
            "text/plain": [
              "<Figure size 432x288 with 1 Axes>"
            ]
          },
          "metadata": {
            "tags": []
          }
        }
      ]
    },
    {
      "cell_type": "code",
      "metadata": {
        "id": "wa9rDObS8kcj",
        "colab_type": "code",
        "outputId": "98f2c91d-715d-46be-c66c-c48cc2b9b5a6",
        "colab": {
          "base_uri": "https://localhost:8080/",
          "height": 297
        }
      },
      "source": [
        "hist_total = np.zeros(num_of_bins)\n",
        "\n",
        "for plane in dose_masked.values():\n",
        "    hist, edge = np.histogram(plane.compressed(), bins=num_of_bins, range=(0, num_of_bins*bin_w))\n",
        "    hist_total += hist\n",
        "\n",
        "bincenter = [(edge[i]+edge[i+1])/2 for i in range(edge.size - 1)]\n",
        "plt.xlabel('Dose (Gy)')\n",
        "plt.ylabel('Num of voxels')\n",
        "plt.plot(bincenter, hist_total)"
      ],
      "execution_count": 21,
      "outputs": [
        {
          "output_type": "execute_result",
          "data": {
            "text/plain": [
              "[<matplotlib.lines.Line2D at 0x7fa108b39a90>]"
            ]
          },
          "metadata": {
            "tags": []
          },
          "execution_count": 21
        },
        {
          "output_type": "display_data",
          "data": {
            "image/png": "[encoded data removed]",
            "text/plain": [
              "<Figure size 432x288 with 1 Axes>"
            ]
          },
          "metadata": {
            "tags": []
          }
        }
      ]
    },
    {
      "cell_type": "code",
      "metadata": {
        "id": "E30AsCsCBX6x",
        "colab_type": "code",
        "outputId": "be75d4ba-29da-43c5-b6ee-134bbca75071",
        "colab": {
          "base_uri": "https://localhost:8080/",
          "height": 297
        }
      },
      "source": [
        "thickness = 2.5\n",
        "vox = pixel_spacing[0] * pixel_spacing[1] * thickness / 1000.\n",
        "volume = hist_total.sum() * vox\n",
        "\n",
        "plt.xlabel('Dose (Gy)')\n",
        "plt.ylabel('Volume (cm3)')\n",
        "plt.plot(bincenter, hist_total*vox)"
      ],
      "execution_count": 22,
      "outputs": [
        {
          "output_type": "execute_result",
          "data": {
            "text/plain": [
              "[<matplotlib.lines.Line2D at 0x7fa108b1c748>]"
            ]
          },
          "metadata": {
            "tags": []
          },
          "execution_count": 22
        },
        {
          "output_type": "display_data",
          "data": {
            "image/png": "[encoded data removed]",
            "text/plain": [
              "<Figure size 432x288 with 1 Axes>"
            ]
          },
          "metadata": {
            "tags": []
          }
        }
      ]
    },
    {
      "cell_type": "code",
      "metadata": {
        "id": "yjEjBgR-VNqd",
        "colab_type": "code",
        "colab": {
          "base_uri": "https://localhost:8080/",
          "height": 35
        },
        "outputId": "89a44a51-4ef1-4106-ac78-87c49b7aae08"
      },
      "source": [
        "b = np.array([1,3,5,7,9])\n",
        "print(b.cumsum())"
      ],
      "execution_count": 23,
      "outputs": [
        {
          "output_type": "stream",
          "text": [
            "[ 1  4  9 16 25]\n"
          ],
          "name": "stdout"
        }
      ]
    },
    {
      "cell_type": "code",
      "metadata": {
        "id": "lMnCeYCcDJti",
        "colab_type": "code",
        "outputId": "91006c96-9848-49f3-f30e-3707adb133d3",
        "colab": {
          "base_uri": "https://localhost:8080/",
          "height": 297
        }
      },
      "source": [
        "cum_dvh = hist_total.sum() - hist_total.cumsum()\n",
        "\n",
        "plt.xlabel('Dose (Gy)')\n",
        "plt.ylabel('Volume (cm3)')\n",
        "plt.plot(bincenter, cum_dvh*vox)"
      ],
      "execution_count": 24,
      "outputs": [
        {
          "output_type": "execute_result",
          "data": {
            "text/plain": [
              "[<matplotlib.lines.Line2D at 0x7fa108af4cf8>]"
            ]
          },
          "metadata": {
            "tags": []
          },
          "execution_count": 24
        },
        {
          "output_type": "display_data",
          "data": {
            "image/png": "[encoded data removed]",
            "text/plain": [
              "<Figure size 432x288 with 1 Axes>"
            ]
          },
          "metadata": {
            "tags": []
          }
        }
      ]
    },
    {
      "cell_type": "code",
      "metadata": {
        "id": "rRzJFTUBLIOc",
        "colab_type": "code",
        "colab": {
          "base_uri": "https://localhost:8080/",
          "height": 297
        },
        "outputId": "7f78f5bd-eb6b-4c87-e51f-5a68f40fa586"
      },
      "source": [
        "cum_rel_dvh = cum_dvh*vox/volume * 100\n",
        "\n",
        "plt.xlabel('Dose (Gy)')\n",
        "plt.ylabel('Volume (%)')\n",
        "plt.plot(bincenter, cum_rel_dvh)"
      ],
      "execution_count": 25,
      "outputs": [
        {
          "output_type": "execute_result",
          "data": {
            "text/plain": [
              "[<matplotlib.lines.Line2D at 0x7fa108a534a8>]"
            ]
          },
          "metadata": {
            "tags": []
          },
          "execution_count": 25
        },
        {
          "output_type": "display_data",
          "data": {
            "image/png": "[encoded data removed]",
            "text/plain": [
              "<Figure size 432x288 with 1 Axes>"
            ]
          },
          "metadata": {
            "tags": []
          }
        }
      ]
    },
    {
      "cell_type": "code",
      "metadata": {
        "id": "Hvmz1ifhXb3Q",
        "colab_type": "code",
        "colab": {
          "base_uri": "https://localhost:8080/",
          "height": 35
        },
        "outputId": "b6ebb62b-3b13-4b3c-b0a1-94354bbc6e64"
      },
      "source": [
        "Dx = interp1d(cum_rel_dvh, bincenter)\n",
        "D95 = Dx([95])\n",
        "print(D95)"
      ],
      "execution_count": 26,
      "outputs": [
        {
          "output_type": "stream",
          "text": [
            "[35.53283333]\n"
          ],
          "name": "stdout"
        }
      ]
    },
    {
      "cell_type": "code",
      "metadata": {
        "id": "FmbZOLfYZnib",
        "colab_type": "code",
        "colab": {}
      },
      "source": [
        ""
      ],
      "execution_count": 0,
      "outputs": []
    }
  ]
}