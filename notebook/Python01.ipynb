{
  "nbformat": 4,
  "nbformat_minor": 0,
  "metadata": {
    "colab": {
      "name": "Python01.ipynb",
      "version": "0.3.2",
      "provenance": [],
      "collapsed_sections": [],
      "include_colab_link": true
    },
    "kernelspec": {
      "name": "python3",
      "display_name": "Python 3"
    }
  },
  "cells": [
    {
      "cell_type": "markdown",
      "metadata": {
        "id": "view-in-github",
        "colab_type": "text"
      },
      "source": [
        "<a href=\"https://colab.research.google.com/github/wkt84/emt-python/blob/master/notebook/Python01.ipynb\" target=\"_parent\"><img src=\"https://colab.research.google.com/assets/colab-badge.svg\" alt=\"Open In Colab\"/></a>"
      ]
    },
    {
      "metadata": {
        "id": "udSxter3SqlI",
        "colab_type": "code",
        "outputId": "69a3b2d5-1bc9-409c-c975-2c9b76fbff1e",
        "colab": {
          "base_uri": "https://localhost:8080/",
          "height": 374
        }
      },
      "cell_type": "code",
      "source": [
        "import this"
      ],
      "execution_count": 0,
      "outputs": [
        {
          "output_type": "stream",
          "text": [
            "The Zen of Python, by Tim Peters\n",
            "\n",
            "Beautiful is better than ugly.\n",
            "Explicit is better than implicit.\n",
            "Simple is better than complex.\n",
            "Complex is better than complicated.\n",
            "Flat is better than nested.\n",
            "Sparse is better than dense.\n",
            "Readability counts.\n",
            "Special cases aren't special enough to break the rules.\n",
            "Although practicality beats purity.\n",
            "Errors should never pass silently.\n",
            "Unless explicitly silenced.\n",
            "In the face of ambiguity, refuse the temptation to guess.\n",
            "There should be one-- and preferably only one --obvious way to do it.\n",
            "Although that way may not be obvious at first unless you're Dutch.\n",
            "Now is better than never.\n",
            "Although never is often better than *right* now.\n",
            "If the implementation is hard to explain, it's a bad idea.\n",
            "If the implementation is easy to explain, it may be a good idea.\n",
            "Namespaces are one honking great idea -- let's do more of those!\n"
          ],
          "name": "stdout"
        }
      ]
    },
    {
      "metadata": {
        "id": "298yJ7UiSwDx",
        "colab_type": "code",
        "outputId": "c6fdd7f0-e84b-4649-87f1-59c16984a78f",
        "colab": {
          "base_uri": "https://localhost:8080/",
          "height": 34
        }
      },
      "cell_type": "code",
      "source": [
        "print ('Hello World')"
      ],
      "execution_count": 0,
      "outputs": [
        {
          "output_type": "stream",
          "text": [
            "Hello World\n"
          ],
          "name": "stdout"
        }
      ]
    },
    {
      "metadata": {
        "id": "4EnHPBAPXT-Y",
        "colab_type": "code",
        "outputId": "26864c5a-93f9-4f5a-d101-7aedc5c89029",
        "colab": {
          "base_uri": "https://localhost:8080/",
          "height": 119
        }
      },
      "cell_type": "code",
      "source": [
        "# #を書けばコメントとして扱われ、実行されない\n",
        "a = 5 \n",
        "b = 3\n",
        "print (a + b) # 足し算\n",
        "print (a - b) # 引き算\n",
        "print (a * b) # 掛け算\n",
        "print (a / b) # 割り算\n",
        "print (a ** b) # 累乗\n",
        "print (a % b) # 剰余（割り算の余り）"
      ],
      "execution_count": 0,
      "outputs": [
        {
          "output_type": "stream",
          "text": [
            "8\n",
            "2\n",
            "15\n",
            "1.6666666666666667\n",
            "125\n",
            "2\n"
          ],
          "name": "stdout"
        }
      ]
    },
    {
      "metadata": {
        "id": "LgbQm71EYWwK",
        "colab_type": "code",
        "outputId": "224c1305-c2da-44df-94e9-23a7909e6895",
        "colab": {
          "base_uri": "https://localhost:8080/",
          "height": 221
        }
      },
      "cell_type": "code",
      "source": [
        "!wget https://medphys.euro-meditec.co.jp/static/img/CT.TG-119.21.dcm\n",
        "!pip install pydicom"
      ],
      "execution_count": 0,
      "outputs": [
        {
          "output_type": "stream",
          "text": [
            "--2018-10-24 09:37:09--  https://medphys.euro-meditec.co.jp/static/img/CT.TG-119.21.dcm\n",
            "Resolving medphys.euro-meditec.co.jp (medphys.euro-meditec.co.jp)... 153.126.139.42\n",
            "Connecting to medphys.euro-meditec.co.jp (medphys.euro-meditec.co.jp)|153.126.139.42|:443... connected.\n",
            "HTTP request sent, awaiting response... 200 OK\n",
            "Length: 526002 (514K) [application/octet-stream]\n",
            "Saving to: ‘CT.TG-119.21.dcm’\n",
            "\n",
            "CT.TG-119.21.dcm    100%[===================>] 513.67K   490KB/s    in 1.0s    \n",
            "\n",
            "2018-10-24 09:37:11 (490 KB/s) - ‘CT.TG-119.21.dcm’ saved [526002/526002]\n",
            "\n",
            "Requirement already satisfied: pydicom in /usr/local/lib/python3.6/dist-packages (1.2.0)\n"
          ],
          "name": "stdout"
        }
      ]
    },
    {
      "metadata": {
        "id": "VcYRiT0paY3g",
        "colab_type": "code",
        "colab": {}
      },
      "cell_type": "code",
      "source": [
        "import matplotlib.pyplot as plt\n",
        "import pydicom\n",
        "%matplotlib inline"
      ],
      "execution_count": 0,
      "outputs": []
    },
    {
      "metadata": {
        "id": "kqqKCz0za1-K",
        "colab_type": "code",
        "outputId": "244eea2a-cb98-41b8-eee6-76fbb6c30d1b",
        "colab": {
          "base_uri": "https://localhost:8080/",
          "height": 286
        }
      },
      "cell_type": "code",
      "source": [
        "ct = pydicom.read_file('CT.TG-119.21.dcm')\n",
        "plt.imshow(ct.pixel_array)"
      ],
      "execution_count": 0,
      "outputs": [
        {
          "output_type": "execute_result",
          "data": {
            "text/plain": [
              "<matplotlib.image.AxesImage at 0x7fcd556c2550>"
            ]
          },
          "metadata": {
            "tags": []
          },
          "execution_count": 6
        },
        {
          "output_type": "display_data",
          "data": {
            "image/png": "[encoded data removed]",
            "text/plain": [
              "<matplotlib.figure.Figure at 0x7fcd563975c0>"
            ]
          },
          "metadata": {
            "tags": []
          }
        }
      ]
    },
    {
      "metadata": {
        "id": "08YgkvC4bixx",
        "colab_type": "code",
        "colab": {}
      },
      "cell_type": "code",
      "source": [
        ""
      ],
      "execution_count": 0,
      "outputs": []
    }
  ]
}