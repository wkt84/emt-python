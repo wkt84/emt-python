{
  "nbformat": 4,
  "nbformat_minor": 0,
  "metadata": {
    "colab": {
      "name": "Python入門12.ipynb",
      "provenance": [],
      "collapsed_sections": [],
      "include_colab_link": true
    },
    "kernelspec": {
      "name": "python3",
      "display_name": "Python 3"
    }
  },
  "cells": [
    {
      "cell_type": "markdown",
      "metadata": {
        "id": "view-in-github",
        "colab_type": "text"
      },
      "source": [
        "<a href=\"https://colab.research.google.com/github/wkt84/emt-python/blob/master/notebook/Python12.ipynb\" target=\"_parent\"><img src=\"https://colab.research.google.com/assets/colab-badge.svg\" alt=\"Open In Colab\"/></a>"
      ]
    },
    {
      "cell_type": "code",
      "metadata": {
        "id": "UZHQlTDZXWXA",
        "colab_type": "code",
        "outputId": "3c08959a-4d09-436f-d792-46d3407e8bf0",
        "colab": {
          "base_uri": "https://localhost:8080/",
          "height": 105
        }
      },
      "source": [
        "!pip install pydicom  # pydicomのインストール\n",
        "import pydicom"
      ],
      "execution_count": 1,
      "outputs": [
        {
          "output_type": "stream",
          "text": [
            "Collecting pydicom\n",
            "\u001b[?25l  Downloading https://files.pythonhosted.org/packages/a5/d0/a3e4990a0935dba506ae78cfa6ec605b15c4cd19336213abd8dcc3524cd5/pydicom-1.4.0-py2.py3-none-any.whl (35.1MB)\n",
            "\u001b[K     |████████████████████████████████| 35.1MB 117kB/s \n",
            "\u001b[?25hInstalling collected packages: pydicom\n",
            "Successfully installed pydicom-1.4.0\n"
          ],
          "name": "stdout"
        }
      ]
    },
    {
      "cell_type": "code",
      "metadata": {
        "id": "G75jUbY8XXXW",
        "colab_type": "code",
        "outputId": "bed1d6f1-52f2-45c1-a221-e756aa850ffc",
        "colab": {
          "base_uri": "https://localhost:8080/",
          "height": 125
        }
      },
      "source": [
        "from google.colab import drive\n",
        "drive.mount('/gdrive')"
      ],
      "execution_count": 2,
      "outputs": [
        {
          "output_type": "stream",
          "text": [
            "Go to this URL in a browser: https://accounts.google.com/o/oauth2/auth?client_id=947318989803-6bn6qk8qdgf4n4g3pfee6491hc0brc4i.apps.googleusercontent.com&redirect_uri=urn%3aietf%3awg%3aoauth%3a2.0%3aoob&response_type=code&scope=email%20https%3a%2f%2fwww.googleapis.com%2fauth%2fdocs.test%20https%3a%2f%2fwww.googleapis.com%2fauth%2fdrive%20https%3a%2f%2fwww.googleapis.com%2fauth%2fdrive.photos.readonly%20https%3a%2f%2fwww.googleapis.com%2fauth%2fpeopleapi.readonly\n",
            "\n",
            "Enter your authorization code:\n",
            "··········\n",
            "Mounted at /gdrive\n"
          ],
          "name": "stdout"
        }
      ]
    },
    {
      "cell_type": "code",
      "metadata": {
        "id": "03Oa6MT4XkYa",
        "colab_type": "code",
        "outputId": "7ff028b5-a93d-431a-b744-4e58abb9b5b1",
        "colab": {
          "base_uri": "https://localhost:8080/",
          "height": 34
        }
      },
      "source": [
        "cd '/gdrive/My Drive/python/DICOMdata/'"
      ],
      "execution_count": 3,
      "outputs": [
        {
          "output_type": "stream",
          "text": [
            "/gdrive/My Drive/python/DICOMdata\n"
          ],
          "name": "stdout"
        }
      ]
    },
    {
      "cell_type": "code",
      "metadata": {
        "id": "QB0eW2ptXnhg",
        "colab_type": "code",
        "colab": {}
      },
      "source": [
        "# よく使うパッケージと表示の設定\n",
        "\n",
        "import numpy as np\n",
        "import matplotlib.pyplot as plt\n",
        "from matplotlib import rc\n",
        "rc('axes', grid='False')"
      ],
      "execution_count": 0,
      "outputs": []
    },
    {
      "cell_type": "code",
      "metadata": {
        "id": "7T-3S2sMVpl9",
        "colab_type": "code",
        "outputId": "0a4b1530-678d-446a-98e4-f66e7f3261bc",
        "colab": {
          "base_uri": "https://localhost:8080/",
          "height": 510
        }
      },
      "source": [
        "rtss = pydicom.dcmread('RS.002445.dcm')\n",
        "\n",
        "structures = {}\n",
        "for roi in rtss.StructureSetROISequence:\n",
        "    structures[roi.ROINumber] = roi.ROIName\n",
        "    print('ROI number: ', roi.ROINumber, 'ROI name: ', roi.ROIName)"
      ],
      "execution_count": 5,
      "outputs": [
        {
          "output_type": "stream",
          "text": [
            "ROI number:  1 ROI name:  RT LENS\n",
            "ROI number:  2 ROI name:  SPINAL_CORD\n",
            "ROI number:  3 ROI name:  CORD+5MM\n",
            "ROI number:  4 ROI name:  LT_PAROTID\n",
            "ROI number:  5 ROI name:  MANDIBLE\n",
            "ROI number:  7 ROI name:  RETROPHARYNGEAL\n",
            "ROI number:  9 ROI name:  RT OPTIC NERVE\n",
            "ROI number:  10 ROI name:  RT SMG\n",
            "ROI number:  11 ROI name:  CTV56\n",
            "ROI number:  12 ROI name:  BRAIN\n",
            "ROI number:  13 ROI name:  LT LENS\n",
            "ROI number:  14 ROI name:  BRAINSTEM\n",
            "ROI number:  15 ROI name:  GTV70\n",
            "ROI number:  16 ROI name:  LT OPTIC NERVE\n",
            "ROI number:  17 ROI name:  CTV63\n",
            "ROI number:  18 ROI name:  PTV70\n",
            "ROI number:  19 ROI name:  PTV63\n",
            "ROI number:  20 ROI name:  RT EYE\n",
            "ROI number:  22 ROI name:  PTV56\n",
            "ROI number:  23 ROI name:  CTV70\n",
            "ROI number:  25 ROI name:  LT EYE\n",
            "ROI number:  26 ROI name:  RT_PAROTID\n",
            "ROI number:  29 ROI name:  LARYNX\n",
            "ROI number:  30 ROI name:  BODY\n",
            "ROI number:  31 ROI name:  LEFT LUNG\n",
            "ROI number:  32 ROI name:  RT LUNG\n",
            "ROI number:  36 ROI name:  LT COCHLEA\n",
            "ROI number:  37 ROI name:  RT COCHLEA\n"
          ],
          "name": "stdout"
        }
      ]
    },
    {
      "cell_type": "code",
      "metadata": {
        "id": "5ojZSUuSYB5B",
        "colab_type": "code",
        "colab": {}
      },
      "source": [
        "contours = {}\n",
        "\n",
        "# Structureごとにループ\n",
        "for contour in rtss.ROIContourSequence:\n",
        "    structure = structures[contour.ReferencedROINumber]  # 輪郭名を辞書より取得\n",
        "    contours[structure] = {}  # 輪郭名をkeyとして空辞書を作成\n",
        "\n",
        "    points = {}\n",
        "    for c in contour.ContourSequence:\n",
        "        # 閉じた輪郭以外（POIなど）を無視\n",
        "        if c.ContourGeometricType != 'CLOSED_PLANAR':\n",
        "            continue\n",
        "        contour_data = c.ContourData\n",
        "        x = [float(x) for x in contour_data[::3]]\n",
        "        y = [float(y) for y in contour_data[1::3]]\n",
        "        z = float(contour_data[2])\n",
        "        xy = list(zip(x, y))  # x座標とy座標を1組のリストへ\n",
        "        xy.append(xy[0])  # 計算のため最後の座標点を1つめの座標点で追加\n",
        "\n",
        "        if z not in points:\n",
        "            points[z] = []  # 初めてのz座標に対しては空リスト作成\n",
        "        points[z].append(xy)  # リストに輪郭を追加\n",
        "    \n",
        "    # pointsというkeyにz座標に対する輪郭点を格納した辞書を追加\n",
        "    contours[structure]['points'] = points"
      ],
      "execution_count": 0,
      "outputs": []
    },
    {
      "cell_type": "code",
      "metadata": {
        "id": "lkdKjTvc2Xnt",
        "colab_type": "code",
        "colab": {
          "base_uri": "https://localhost:8080/",
          "height": 897
        },
        "outputId": "77bfce17-9014-4eda-b9cc-19731b28f08e"
      },
      "source": [
        "PTV70_points = contours['PTV70']['points']\n",
        "\n",
        "# z座標とそのz座標にある輪郭の数を表示\n",
        "for z, points in PTV70_points.items():\n",
        "    print(z, len(points))"
      ],
      "execution_count": 7,
      "outputs": [
        {
          "output_type": "stream",
          "text": [
            "-67.5 1\n",
            "-65.0 1\n",
            "-62.5 1\n",
            "-60.0 1\n",
            "-57.5 1\n",
            "-55.0 1\n",
            "-52.5 1\n",
            "-50.0 1\n",
            "-47.5 1\n",
            "-45.0 1\n",
            "-42.5 1\n",
            "-40.0 1\n",
            "-37.5 1\n",
            "-35.0 1\n",
            "-32.5 1\n",
            "-30.0 1\n",
            "-27.5 1\n",
            "-25.0 1\n",
            "-22.5 1\n",
            "-20.0 1\n",
            "-17.5 1\n",
            "-15.0 2\n",
            "-12.5 2\n",
            "-10.0 2\n",
            "-7.5 2\n",
            "-5.0 2\n",
            "-2.5 2\n",
            "0.0 2\n",
            "2.5 1\n",
            "5.0 1\n",
            "7.5 1\n",
            "10.0 1\n",
            "12.5 1\n",
            "15.0 1\n",
            "17.5 1\n",
            "20.0 1\n",
            "22.5 1\n",
            "25.0 1\n",
            "27.5 1\n",
            "30.0 1\n",
            "32.5 1\n",
            "35.0 1\n",
            "37.5 1\n",
            "40.0 1\n",
            "42.5 1\n",
            "45.0 1\n",
            "47.5 1\n",
            "50.0 1\n",
            "52.5 1\n",
            "55.0 1\n"
          ],
          "name": "stdout"
        }
      ]
    },
    {
      "cell_type": "code",
      "metadata": {
        "id": "nWmhsWlP3uUa",
        "colab_type": "code",
        "colab": {
          "base_uri": "https://localhost:8080/",
          "height": 34
        },
        "outputId": "bd00e11f-4636-4555-8723-a1cd82f2b404"
      },
      "source": [
        "s = 0\n",
        "for points in PTV70_points.values():\n",
        "    # 同一z座標内に複数輪郭がある場合の繰り返し\n",
        "    for point in points:\n",
        "        for i in range(len(point)-1):\n",
        "            s += (point[i][0] * point[i+1][1] - point[i+1][0] * point[i][1]) / 2\n",
        "\n",
        "thickness = 2.5\n",
        "v = s * thickness / 1000\n",
        "print('volume:', v, 'cm3')"
      ],
      "execution_count": 57,
      "outputs": [
        {
          "output_type": "stream",
          "text": [
            "area: 236.90448474999994 cm3\n"
          ],
          "name": "stdout"
        }
      ]
    },
    {
      "cell_type": "code",
      "metadata": {
        "id": "3LYfc4Tj_Chb",
        "colab_type": "code",
        "colab": {}
      },
      "source": [
        "# まずPathを作る\n",
        "from matplotlib.path import Path\n",
        "\n",
        "for contour in rtss.ROIContourSequence:\n",
        "    structure = structures[contour.ReferencedROINumber]  # 輪郭名を取得\n",
        "    # 先ほど抽出した座標点を取得\n",
        "    points = contours[structure]['points']\n",
        "    # Pathを作成\n",
        "    paths = {}\n",
        "    for z, p in points.items():\n",
        "        if len(p) > 1:  # 同じz座標に輪郭が2つ以上ある場合\n",
        "            for i, c in enumerate(p):\n",
        "                # Path生成用のcodeを作成\n",
        "                codes = np.ones(len(c)) * Path.LINETO\n",
        "                codes[0] = Path.MOVETO  # 輪郭点のはじめはMOVETO\n",
        "                codes[-1] = Path.CLOSEPOLY  # 輪郭点の終わりはCLOSEPOLY\n",
        "                if i==0:  # 最初の輪郭\n",
        "                    all_paths = c\n",
        "                    all_codes = codes\n",
        "                else:  # 2つ目以降の輪郭を合体\n",
        "                    all_paths = np.concatenate((all_paths, c))\n",
        "                    all_codes = np.concatenate((all_codes, codes))\n",
        "        else:  # 同じz座標に輪郭が1つの場合\n",
        "            all_paths = p[0]\n",
        "            all_codes = np.ones(len(p[0])) * Path.LINETO\n",
        "            all_codes[0] = Path.MOVETO\n",
        "            all_codes[-1] = Path.CLOSEPOLY\n",
        "\n",
        "        path = Path(all_paths, all_codes)\n",
        "        paths[z] = path\n",
        "    # pathsというKeyにz座標に対するPathを格納した辞書を追加\n",
        "    contours[structure]['paths'] = paths"
      ],
      "execution_count": 0,
      "outputs": []
    },
    {
      "cell_type": "code",
      "metadata": {
        "id": "FzwAYpRTD1p7",
        "colab_type": "code",
        "colab": {}
      },
      "source": [
        "# PTV70を例に\n",
        "z = 0\n",
        "PTV70_paths = contours['PTV70']['paths']\n",
        "path_z = PTV70_paths[z] # z = 0のスライスのPathを取り出し"
      ],
      "execution_count": 0,
      "outputs": []
    },
    {
      "cell_type": "code",
      "metadata": {
        "id": "iA3XGO4pD690",
        "colab_type": "code",
        "colab": {
          "base_uri": "https://localhost:8080/",
          "height": 269
        },
        "outputId": "4bbbc788-1ef9-4854-f996-1798f0d2f640"
      },
      "source": [
        "import matplotlib.patches as patches\n",
        "\n",
        "fig = plt.figure()\n",
        "ax = fig.add_subplot(111)\n",
        "patch = patches.PathPatch(path_z, fc='red', lw=2)\n",
        "ax.add_patch(patch)\n",
        "ax.plot(50, -150, 'bo')\n",
        "ax.plot(50, -50, 'go')\n",
        "ax.set_xlim(-50,150)\n",
        "ax.set_ylim(0,-200)\n",
        "ax.set_aspect('equal')"
      ],
      "execution_count": 11,
      "outputs": [
        {
          "output_type": "display_data",
          "data": {
            "image/png": "[encoded data removed]",
            "text/plain": [
              "<Figure size 432x288 with 1 Axes>"
            ]
          },
          "metadata": {
            "tags": []
          }
        }
      ]
    },
    {
      "cell_type": "code",
      "metadata": {
        "id": "h6pQz3ibRxxP",
        "colab_type": "code",
        "colab": {
          "base_uri": "https://localhost:8080/",
          "height": 34
        },
        "outputId": "3e9b2d84-39ed-415a-a458-fea9182007c8"
      },
      "source": [
        "path_z.contains_points([[50,-150], [50, -50]])"
      ],
      "execution_count": 12,
      "outputs": [
        {
          "output_type": "execute_result",
          "data": {
            "text/plain": [
              "array([ True, False])"
            ]
          },
          "metadata": {
            "tags": []
          },
          "execution_count": 12
        }
      ]
    },
    {
      "cell_type": "code",
      "metadata": {
        "id": "LdwU8HetSZLa",
        "colab_type": "code",
        "colab": {
          "base_uri": "https://localhost:8080/",
          "height": 34
        },
        "outputId": "465785be-e9e8-4904-9972-2626a3b32b67"
      },
      "source": [
        "x = [1,2,3,4,5]\n",
        "y = [0,1,2]\n",
        "# リスト内包表記を使う\n",
        "grid = [[i, j] for j in y for i in x]\n",
        "print(grid)"
      ],
      "execution_count": 21,
      "outputs": [
        {
          "output_type": "stream",
          "text": [
            "[[1, 0], [2, 0], [3, 0], [4, 0], [5, 0], [1, 1], [2, 1], [3, 1], [4, 1], [5, 1], [1, 2], [2, 2], [3, 2], [4, 2], [5, 2]]\n"
          ],
          "name": "stdout"
        }
      ]
    },
    {
      "cell_type": "code",
      "metadata": {
        "id": "6LBzDWkQ9vLA",
        "colab_type": "code",
        "colab": {
          "base_uri": "https://localhost:8080/",
          "height": 34
        },
        "outputId": "1aa59a28-ea4d-4d6d-a4b0-32a853ad71c3"
      },
      "source": [
        "PTV70_x = [p[0] for points in PTV70_points.values() for point in points for p in point]\n",
        "PTV70_y = [p[1] for points in PTV70_points.values() for point in points for p in point]\n",
        "x_max = max(PTV70_x)\n",
        "x_min = min(PTV70_x)\n",
        "y_max = max(PTV70_y)\n",
        "y_min = min(PTV70_y)\n",
        "print(x_max, x_min, y_max, y_min)"
      ],
      "execution_count": 40,
      "outputs": [
        {
          "output_type": "stream",
          "text": [
            "73.73 -0.59 -64.51 -166.45\n"
          ],
          "name": "stdout"
        }
      ]
    },
    {
      "cell_type": "code",
      "metadata": {
        "id": "BRsNuIojDgpQ",
        "colab_type": "code",
        "colab": {}
      },
      "source": [
        "x = np.arange(np.floor(x_min), np.ceil(x_max)+1, 1)\n",
        "y = np.arange(np.floor(y_min), np.ceil(y_max)+1, 1)\n",
        "grid = [[i, j] for j in y for i in x]"
      ],
      "execution_count": 0,
      "outputs": []
    },
    {
      "cell_type": "code",
      "metadata": {
        "id": "jh_Xt5ClIK7L",
        "colab_type": "code",
        "colab": {
          "base_uri": "https://localhost:8080/",
          "height": 286
        },
        "outputId": "77b9de2f-a53f-4dd5-ca17-a4855e2be2ae"
      },
      "source": [
        "mask = path_z.contains_points(grid).reshape(y.size, x.size)\n",
        "plt.imshow(mask)"
      ],
      "execution_count": 51,
      "outputs": [
        {
          "output_type": "execute_result",
          "data": {
            "text/plain": [
              "<matplotlib.image.AxesImage at 0x7f4fb5f23358>"
            ]
          },
          "metadata": {
            "tags": []
          },
          "execution_count": 51
        },
        {
          "output_type": "display_data",
          "data": {
            "image/png": "[encoded data removed]",
            "text/plain": [
              "<Figure size 432x288 with 1 Axes>"
            ]
          },
          "metadata": {
            "tags": []
          }
        }
      ]
    },
    {
      "cell_type": "code",
      "metadata": {
        "id": "wWgF0KLkM-So",
        "colab_type": "code",
        "colab": {
          "base_uri": "https://localhost:8080/",
          "height": 34
        },
        "outputId": "046fa1da-32f0-49b7-9d72-58c7507a5086"
      },
      "source": [
        "num_of_pix = 0\n",
        "\n",
        "for path in PTV70_paths.values():\n",
        "    mask = path.contains_points(grid)\n",
        "    # True=1, False=0なので、sum()でTrueの個数をカウント\n",
        "    num_of_pix += mask.sum()\n",
        "\n",
        "area_of_pix = 1 * 1\n",
        "thickness = 2.5  # mm\n",
        "v = num_of_pix * area_of_pix * thickness / 1000  # mm3 => cm3\n",
        "print('volume:', v, 'cm3')"
      ],
      "execution_count": 60,
      "outputs": [
        {
          "output_type": "stream",
          "text": [
            "volume: 237.09 cm3\n"
          ],
          "name": "stdout"
        }
      ]
    },
    {
      "cell_type": "code",
      "metadata": {
        "id": "yCXkMJm_R6n-",
        "colab_type": "code",
        "colab": {}
      },
      "source": [
        ""
      ],
      "execution_count": 0,
      "outputs": []
    }
  ]
}