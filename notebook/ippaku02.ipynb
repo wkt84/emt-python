{
  "nbformat": 4,
  "nbformat_minor": 0,
  "metadata": {
    "colab": {
      "name": "一泊セミナー02.ipynb",
      "version": "0.3.2",
      "provenance": [],
      "include_colab_link": true
    },
    "kernelspec": {
      "name": "python3",
      "display_name": "Python 3"
    }
  },
  "cells": [
    {
      "cell_type": "markdown",
      "metadata": {
        "id": "view-in-github",
        "colab_type": "text"
      },
      "source": [
        "<a href=\"https://colab.research.google.com/github/wkt84/emt-python/blob/master/notebook/ippaku02.ipynb\" target=\"_parent\"><img src=\"https://colab.research.google.com/assets/colab-badge.svg\" alt=\"Open In Colab\"/></a>"
      ]
    },
    {
      "cell_type": "code",
      "metadata": {
        "id": "bhRzIU_uIrK4",
        "colab_type": "code",
        "colab": {}
      },
      "source": [
        "import numpy as np\n",
        "import matplotlib.pyplot as plt"
      ],
      "execution_count": 0,
      "outputs": []
    },
    {
      "cell_type": "markdown",
      "metadata": {
        "id": "Zi_nnd8sJksp",
        "colab_type": "text"
      },
      "source": [
        "## 順方向計算の実装"
      ]
    },
    {
      "cell_type": "code",
      "metadata": {
        "id": "oeKl2FuEI1Wn",
        "colab_type": "code",
        "colab": {}
      },
      "source": [
        "class Linear:\n",
        "    def __init__(self, in_size, out_size):\n",
        "        self.W = np.random.randn(out_size, in_size)\n",
        "        self.b = np.zeros(out_size)\n",
        "        \n",
        "    def forward(self, x):\n",
        "        return x.dot(self.W.T) + self.b"
      ],
      "execution_count": 0,
      "outputs": []
    },
    {
      "cell_type": "code",
      "metadata": {
        "id": "XACAvdEhI8rA",
        "colab_type": "code",
        "colab": {}
      },
      "source": [
        "class ReLU:\n",
        "    def forward(self, x):\n",
        "        return np.maximum(0,x)"
      ],
      "execution_count": 0,
      "outputs": []
    },
    {
      "cell_type": "code",
      "metadata": {
        "id": "Tzbd3ceRJEif",
        "colab_type": "code",
        "colab": {}
      },
      "source": [
        "class Sigmoid:\n",
        "    def forward(self, x):\n",
        "        return 1/(1+np.exp(-x))"
      ],
      "execution_count": 0,
      "outputs": []
    },
    {
      "cell_type": "code",
      "metadata": {
        "id": "s078eqbEJHDR",
        "colab_type": "code",
        "colab": {}
      },
      "source": [
        "def softmax(x):\n",
        "    m = np.max(x, axis=1)\n",
        "    m2 = m.reshape(x.shape[0], 1)\n",
        "    exp_m = np.exp((x-m2))\n",
        "    return (exp_m.T/np.sum(exp_m.T, axis=0)).T"
      ],
      "execution_count": 0,
      "outputs": []
    },
    {
      "cell_type": "code",
      "metadata": {
        "id": "Pjsv7zfpJJo1",
        "colab_type": "code",
        "colab": {}
      },
      "source": [
        "def softmax_cross_entropy_gy(x, t):\n",
        "    m = np.max(x, axis=1)\n",
        "    m2 = m.reshape(x.shape[0], 1)\n",
        "    exp_m = np.exp((x-m2))\n",
        "    return (exp_m.T/np.sum(exp_m.T, axis=0)).T - t"
      ],
      "execution_count": 0,
      "outputs": []
    },
    {
      "cell_type": "markdown",
      "metadata": {
        "id": "OLTiSmU6JMSg",
        "colab_type": "text"
      },
      "source": [
        "## 3層のニューラルネットワーク"
      ]
    },
    {
      "cell_type": "code",
      "metadata": {
        "id": "5KL0CmEhJLQQ",
        "colab_type": "code",
        "colab": {}
      },
      "source": [
        "layers = [\n",
        "    Linear(784, 100),\n",
        "    ReLU(),\n",
        "    Linear(100, 100),\n",
        "    ReLU(),\n",
        "    Linear(100, 10),\n",
        "]"
      ],
      "execution_count": 0,
      "outputs": []
    },
    {
      "cell_type": "code",
      "metadata": {
        "id": "NY2Azhs2JTox",
        "colab_type": "code",
        "colab": {
          "base_uri": "https://localhost:8080/",
          "height": 304
        },
        "outputId": "a62363fb-8b58-4767-8c6e-43b285b0f276"
      },
      "source": [
        "from keras.datasets import mnist\n",
        "data = mnist.load_data()\n",
        "data_1st = data[0][0][1]\n",
        "print(data_1st.shape)\n",
        "plt.imshow(data_1st)\n",
        "plt.show()"
      ],
      "execution_count": 8,
      "outputs": [
        {
          "output_type": "stream",
          "text": [
            "Using TensorFlow backend.\n"
          ],
          "name": "stderr"
        },
        {
          "output_type": "stream",
          "text": [
            "(28, 28)\n"
          ],
          "name": "stdout"
        },
        {
          "output_type": "display_data",
          "data": {
            "image/png": "[encoded data removed]",
            "text/plain": [
              "<Figure size 432x288 with 1 Axes>"
            ]
          },
          "metadata": {
            "tags": []
          }
        }
      ]
    },
    {
      "cell_type": "code",
      "metadata": {
        "id": "07Bhila9JXqg",
        "colab_type": "code",
        "colab": {
          "base_uri": "https://localhost:8080/",
          "height": 304
        },
        "outputId": "311dfe14-b9e2-4ea6-80df-e3490d80e086"
      },
      "source": [
        "data_100 = data[0][0][:100]\n",
        "print(data_100.shape)\n",
        "data_100_1d = data_100.reshape(100, 784)\n",
        "print(data_100_1d.shape)\n",
        "plt.imshow(data_100_1d[0].reshape(28,28))\n",
        "plt.show()"
      ],
      "execution_count": 9,
      "outputs": [
        {
          "output_type": "stream",
          "text": [
            "(100, 28, 28)\n",
            "(100, 784)\n"
          ],
          "name": "stdout"
        },
        {
          "output_type": "display_data",
          "data": {
            "image/png": "[encoded data removed]",
            "text/plain": [
              "<Figure size 432x288 with 1 Axes>"
            ]
          },
          "metadata": {
            "tags": []
          }
        }
      ]
    },
    {
      "cell_type": "code",
      "metadata": {
        "id": "YPb9PfT2JeBw",
        "colab_type": "code",
        "colab": {}
      },
      "source": [
        "x = data_100_1d / 255.\n",
        "for layer in layers:\n",
        "    x = layer.forward(x)\n",
        "x = softmax(x)"
      ],
      "execution_count": 0,
      "outputs": []
    },
    {
      "cell_type": "markdown",
      "metadata": {
        "id": "A1Ogfb4qJnbX",
        "colab_type": "text"
      },
      "source": [
        "## 逆方向計算の実装"
      ]
    },
    {
      "cell_type": "code",
      "metadata": {
        "id": "pGGNue_zJg8D",
        "colab_type": "code",
        "colab": {}
      },
      "source": [
        "def softmax_cross_entropy_gy(x, t):\n",
        "    m = np.max(x, axis=1)\n",
        "    m2 = m.reshape(x.shape[0], 1)\n",
        "    exp_m = np.exp((x-m2))\n",
        "    return (exp_m.T/np.sum(exp_m.T, axis=0)).T - t"
      ],
      "execution_count": 0,
      "outputs": []
    },
    {
      "cell_type": "code",
      "metadata": {
        "id": "8atnG_uBJyHS",
        "colab_type": "code",
        "colab": {}
      },
      "source": [
        "class Linear:\n",
        "    def __init__(self, in_size, out_size):\n",
        "        self.W = np.random.randn(out_size, in_size) * np.sqrt(2 / in_size)\n",
        "        self.b = np.zeros(out_size)\n",
        "        \n",
        "    def forward(self, x):\n",
        "        self.x = x\n",
        "        return x.dot(self.W.T) + self.b\n",
        "    \n",
        "    def update(self, gy, lr):\n",
        "        self.W -= lr * gy.T.dot(self.x)\n",
        "        self.b -= lr * gy.sum(axis=0)\n",
        "        return gy.dot(self.W)"
      ],
      "execution_count": 0,
      "outputs": []
    },
    {
      "cell_type": "code",
      "metadata": {
        "id": "hHoJ_Bh-SUE1",
        "colab_type": "code",
        "colab": {}
      },
      "source": [
        "class ReLU:\n",
        "    def forward(self, x):\n",
        "        self.x = x\n",
        "        return np.maximum(0,x)\n",
        "    \n",
        "    def update(self, gy, lr):\n",
        "        return gy * (self.x > 0)"
      ],
      "execution_count": 0,
      "outputs": []
    },
    {
      "cell_type": "code",
      "metadata": {
        "id": "gls49QNcUzgq",
        "colab_type": "code",
        "colab": {}
      },
      "source": [
        "class Sigmoid:\n",
        "    def forward(self, x):\n",
        "        self.x = x\n",
        "        self.y = 1/(1+np.exp(-x))\n",
        "        return self.y\n",
        "    \n",
        "    def update(self, gy, lr):\n",
        "        return gy * self.y * (1 - self.y)"
      ],
      "execution_count": 0,
      "outputs": []
    },
    {
      "cell_type": "markdown",
      "metadata": {
        "id": "U84GpdN4Xe7g",
        "colab_type": "text"
      },
      "source": [
        "## データの生成"
      ]
    },
    {
      "cell_type": "code",
      "metadata": {
        "id": "Yw3vka7TXddc",
        "colab_type": "code",
        "colab": {
          "base_uri": "https://localhost:8080/",
          "height": 52
        },
        "outputId": "3a970b1e-85a5-4b69-ed55-e1de60d27a74"
      },
      "source": [
        "from keras.datasets import mnist\n",
        "((train_data, train_label), (test_data, test_label)) = mnist.load_data()\n",
        "\n",
        "print(train_data.shape)\n",
        "print(train_label.shape)"
      ],
      "execution_count": 91,
      "outputs": [
        {
          "output_type": "stream",
          "text": [
            "(60000, 28, 28)\n",
            "(60000,)\n"
          ],
          "name": "stdout"
        }
      ]
    },
    {
      "cell_type": "code",
      "metadata": {
        "id": "dk_DSOCBaKBU",
        "colab_type": "code",
        "colab": {
          "base_uri": "https://localhost:8080/",
          "height": 304
        },
        "outputId": "bc7d7e31-850c-4243-fb92-e57c088b8077"
      },
      "source": [
        "num = 4\n",
        "print('正解: ', train_label[num])\n",
        "plt.imshow(train_data[num])"
      ],
      "execution_count": 92,
      "outputs": [
        {
          "output_type": "stream",
          "text": [
            "正解:  9\n"
          ],
          "name": "stdout"
        },
        {
          "output_type": "execute_result",
          "data": {
            "text/plain": [
              "<matplotlib.image.AxesImage at 0x7f5f4c130be0>"
            ]
          },
          "metadata": {
            "tags": []
          },
          "execution_count": 92
        },
        {
          "output_type": "display_data",
          "data": {
            "image/png": "[encoded data removed]",
            "text/plain": [
              "<Figure size 432x288 with 1 Axes>"
            ]
          },
          "metadata": {
            "tags": []
          }
        }
      ]
    },
    {
      "cell_type": "code",
      "metadata": {
        "id": "z9Y7tsnbaZgo",
        "colab_type": "code",
        "colab": {}
      },
      "source": [
        "train_1d = train_data.reshape(60000, 784) / 255."
      ],
      "execution_count": 0,
      "outputs": []
    },
    {
      "cell_type": "code",
      "metadata": {
        "id": "GzMMP9iObKHp",
        "colab_type": "code",
        "colab": {}
      },
      "source": [
        "train_1hot = np.array([train_label == i for i in range(10)]).astype(np.int).T"
      ],
      "execution_count": 0,
      "outputs": []
    },
    {
      "cell_type": "markdown",
      "metadata": {
        "id": "LrjSgvLUW_qr",
        "colab_type": "text"
      },
      "source": [
        "## 順方向、逆方向の計算"
      ]
    },
    {
      "cell_type": "code",
      "metadata": {
        "id": "qrxN-7S_VKPz",
        "colab_type": "code",
        "colab": {}
      },
      "source": [
        "model = [\n",
        "    Linear(784, 100),\n",
        "    ReLU(),\n",
        "    Linear(100, 100),\n",
        "    ReLU(),\n",
        "    Linear(100, 10),\n",
        "]"
      ],
      "execution_count": 0,
      "outputs": []
    },
    {
      "cell_type": "code",
      "metadata": {
        "id": "-ZT8oi7qXLE0",
        "colab_type": "code",
        "colab": {}
      },
      "source": [
        "def forward(model, x):\n",
        "    for layer in model:\n",
        "        x = layer.forward(x)\n",
        "    return x\n",
        "\n",
        "def update(layers, gy, lr=0.0001):\n",
        "    for layer in reversed(model):\n",
        "        gy = layer.update(gy, lr)"
      ],
      "execution_count": 0,
      "outputs": []
    },
    {
      "cell_type": "code",
      "metadata": {
        "id": "rgbvhadPgxdK",
        "colab_type": "code",
        "colab": {
          "base_uri": "https://localhost:8080/",
          "height": 990
        },
        "outputId": "9d157496-9d23-4849-df09-0dc664ecca49"
      },
      "source": [
        "mini_batch = 128\n",
        "num_of_epoch = 20\n",
        "accuracy = []\n",
        "ep = []\n",
        "for epoch in range(num_of_epoch):\n",
        "    for i in range(0, len(train_1d), mini_batch):\n",
        "        x, t = train_1d[i:i + mini_batch], train_1hot[i:i + mini_batch]\n",
        "        y = forward(model, x)\n",
        "        gy = softmax_cross_entropy_gy(y, t)\n",
        "        update(model, gy)\n",
        "    print(str(epoch+1)+'epochめの学習が終了しました')\n",
        "    #精度の算出\n",
        "    y = forward(model, train_1d)\n",
        "    n_correct = np.sum(train_1hot[np.arange(len(train_1hot)), y.argmax(axis=1)])\n",
        "    acc = n_correct / float(len(train_1hot))\n",
        "    accuracy.append(acc)\n",
        "    ep.append(epoch+1)\n",
        "    print('精度: '+str(acc*100)+'%')\n",
        "plt.plot(ep,accuracy)"
      ],
      "execution_count": 98,
      "outputs": [
        {
          "output_type": "stream",
          "text": [
            "1epochめの学習が終了しました\n",
            "精度: 92.27499999999999%\n",
            "2epochめの学習が終了しました\n",
            "精度: 92.82166666666667%\n",
            "3epochめの学習が終了しました\n",
            "精度: 93.28999999999999%\n",
            "4epochめの学習が終了しました\n",
            "精度: 93.65666666666667%\n",
            "5epochめの学習が終了しました\n",
            "精度: 93.965%\n",
            "6epochめの学習が終了しました\n",
            "精度: 94.22833333333334%\n",
            "7epochめの学習が終了しました\n",
            "精度: 94.49833333333333%\n",
            "8epochめの学習が終了しました\n",
            "精度: 94.73333333333333%\n",
            "9epochめの学習が終了しました\n",
            "精度: 94.935%\n",
            "10epochめの学習が終了しました\n",
            "精度: 95.145%\n",
            "11epochめの学習が終了しました\n",
            "精度: 95.33%\n",
            "12epochめの学習が終了しました\n",
            "精度: 95.49166666666666%\n",
            "13epochめの学習が終了しました\n",
            "精度: 95.63333333333334%\n",
            "14epochめの学習が終了しました\n",
            "精度: 95.785%\n",
            "15epochめの学習が終了しました\n",
            "精度: 95.92333333333333%\n",
            "16epochめの学習が終了しました\n",
            "精度: 96.04333333333334%\n",
            "17epochめの学習が終了しました\n",
            "精度: 96.15333333333334%\n",
            "18epochめの学習が終了しました\n",
            "精度: 96.26333333333334%\n",
            "19epochめの学習が終了しました\n",
            "精度: 96.37666666666667%\n",
            "20epochめの学習が終了しました\n",
            "精度: 96.47%\n"
          ],
          "name": "stdout"
        },
        {
          "output_type": "execute_result",
          "data": {
            "text/plain": [
              "[<matplotlib.lines.Line2D at 0x7f5f4c0aa358>]"
            ]
          },
          "metadata": {
            "tags": []
          },
          "execution_count": 98
        },
        {
          "output_type": "display_data",
          "data": {
            "image/png": "[encoded data removed]",
            "text/plain": [
              "<Figure size 432x288 with 1 Axes>"
            ]
          },
          "metadata": {
            "tags": []
          }
        }
      ]
    },
    {
      "cell_type": "code",
      "metadata": {
        "id": "yPYpzQTuhfbV",
        "colab_type": "code",
        "colab": {
          "base_uri": "https://localhost:8080/",
          "height": 304
        },
        "outputId": "c0bd3999-567c-43e0-d0b3-02cb5f4995e5"
      },
      "source": [
        "data_number = 5\n",
        "y = forward(model, train_1d[data_number])\n",
        "plt.imshow(train_1d[data_number].reshape(28,28), 'gray')\n",
        "print('正解label: '+str(train_1hot[data_number].argmax()))\n",
        "print('予測label: '+str(y.argmax()))"
      ],
      "execution_count": 101,
      "outputs": [
        {
          "output_type": "stream",
          "text": [
            "正解label: 2\n",
            "予測label: 2\n"
          ],
          "name": "stdout"
        },
        {
          "output_type": "display_data",
          "data": {
            "image/png": "[encoded data removed]",
            "text/plain": [
              "<Figure size 432x288 with 1 Axes>"
            ]
          },
          "metadata": {
            "tags": []
          }
        }
      ]
    },
    {
      "cell_type": "code",
      "metadata": {
        "id": "nUZDQ8AVpI3K",
        "colab_type": "code",
        "colab": {}
      },
      "source": [
        "fault = []\n",
        "for i in range(len(train_1d)):\n",
        "    y = forward(model, train_1d[i])\n",
        "    if train_1hot[i].argmax() != y.argmax():\n",
        "        fault.append(i)"
      ],
      "execution_count": 0,
      "outputs": []
    },
    {
      "cell_type": "code",
      "metadata": {
        "id": "AEDfsmq-qJbb",
        "colab_type": "code",
        "colab": {
          "base_uri": "https://localhost:8080/",
          "height": 304
        },
        "outputId": "329d3388-7bb9-4424-ff54-a8be977deb0f"
      },
      "source": [
        "miss_num = 3\n",
        "y = forward(model, train_1d[fault[miss_num]])\n",
        "plt.imshow(train_1d[fault[miss_num]].reshape(28,28), 'gray')\n",
        "print('正解label: '+str(train_1hot[fault[miss_num]].argmax()))\n",
        "print('予測label: '+str(y.argmax()))"
      ],
      "execution_count": 105,
      "outputs": [
        {
          "output_type": "stream",
          "text": [
            "正解label: 1\n",
            "予測label: 3\n"
          ],
          "name": "stdout"
        },
        {
          "output_type": "display_data",
          "data": {
            "image/png": "[encoded data removed]",
            "text/plain": [
              "<Figure size 432x288 with 1 Axes>"
            ]
          },
          "metadata": {
            "tags": []
          }
        }
      ]
    },
    {
      "cell_type": "code",
      "metadata": {
        "id": "wD9Z3YQBqK26",
        "colab_type": "code",
        "colab": {}
      },
      "source": [
        "test_1d = test_data.reshape(10000, 784) / 255.\n",
        "test_1hot = np.array([test_label == i for i in range(10)]).astype(np.int).T"
      ],
      "execution_count": 0,
      "outputs": []
    },
    {
      "cell_type": "code",
      "metadata": {
        "id": "47xZVaTKqdeY",
        "colab_type": "code",
        "colab": {
          "base_uri": "https://localhost:8080/",
          "height": 34
        },
        "outputId": "78b92038-d259-457f-ec9f-b60566974dac"
      },
      "source": [
        "y = forward(model, test_1d)\n",
        "n_correct = np.sum(test_1hot[np.arange(len(test_1hot)), y.argmax(axis=1)])\n",
        "acc = n_correct / float(len(test_1hot))\n",
        "print(acc)"
      ],
      "execution_count": 110,
      "outputs": [
        {
          "output_type": "stream",
          "text": [
            "0.9599\n"
          ],
          "name": "stdout"
        }
      ]
    },
    {
      "cell_type": "code",
      "metadata": {
        "id": "veFhtAXmrOKn",
        "colab_type": "code",
        "colab": {}
      },
      "source": [
        ""
      ],
      "execution_count": 0,
      "outputs": []
    }
  ]
}